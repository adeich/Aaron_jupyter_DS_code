{
 "cells": [
  {
   "cell_type": "code",
   "execution_count": 9,
   "metadata": {
    "ExecuteTime": {
     "end_time": "2020-08-10T22:44:36.632706Z",
     "start_time": "2020-08-10T22:44:36.619322Z"
    }
   },
   "outputs": [
    {
     "data": {
      "application/javascript": [
       "IPython.notebook.set_autosave_interval(60000)"
      ]
     },
     "metadata": {},
     "output_type": "display_data"
    },
    {
     "name": "stdout",
     "output_type": "stream",
     "text": [
      "Autosaving every 60 seconds\n"
     ]
    }
   ],
   "source": [
    "%autosave 60"
   ]
  },
  {
   "cell_type": "markdown",
   "metadata": {},
   "source": [
    "# Two Sum\n",
    "\n",
    "https://leetcode.com/problems/two-sum/\n",
    "\n",
    "Given an array of integers, return indices of the two numbers such that they add up to a specific target.\n",
    "\n",
    "You may assume that each input would have exactly one solution, and you may not use the same element twice.\n",
    "\n",
    "```Example:\n",
    "\n",
    "Given nums = [2, 7, 11, 15], target = 9,\n",
    "\n",
    "Because nums[0] + nums[1] = 2 + 7 = 9,\n",
    "return [0, 1].\n",
    "```"
   ]
  },
  {
   "cell_type": "code",
   "execution_count": 8,
   "metadata": {
    "ExecuteTime": {
     "end_time": "2020-08-10T22:44:03.469187Z",
     "start_time": "2020-08-10T22:44:03.454125Z"
    }
   },
   "outputs": [
    {
     "name": "stdout",
     "output_type": "stream",
     "text": [
      "[0, 1] [0, 1]\n",
      "[5, 6] [5, 6]\n"
     ]
    }
   ],
   "source": [
    "class Solution:\n",
    "    def twoSum(self, nums: int, target: int) -> int:\n",
    "        sum_dictionary = {}\n",
    "        \n",
    "        for index, value in enumerate(nums):\n",
    "          \n",
    "            desired_value = target - value\n",
    "            if desired_value in sum_dictionary:\n",
    "                return [sum_dictionary[desired_value], index]\n",
    "            else:\n",
    "                sum_dictionary[value] = index\n",
    "        \n",
    "        # for index1, value1 in enumerate(nums):\n",
    "        #     for index2, value2 in enumerate(nums):\n",
    "        #         if index1 != index2:\n",
    "        #             if value2 == target - value1: \n",
    "        #                 return index1, index2\n",
    "        \n",
    "        \n",
    "\n",
    "sol = Solution()\n",
    "print(\n",
    "    sol.twoSum(\n",
    "    nums=[2,7,11,15],\n",
    "    target=9), [0,1])\n",
    "\n",
    "print(\n",
    "    sol.twoSum(\n",
    "    nums=[1,2,3,4,5,6,7],\n",
    "    target=13), [5, 6])\n",
    "        \n",
    "# input list: [1,2,3,4,5,6,7]; target: 13\n",
    "\n",
    "# output -> [5, 6] (indices of 6 and 7)\n",
    "        \n"
   ]
  },
  {
   "cell_type": "markdown",
   "metadata": {},
   "source": [
    "# Number of Islands\n",
    "\n",
    "https://leetcode.com/problems/number-of-islands/\n",
    "\n",
    "Given a 2d grid map of '1's (land) and '0's (water), count the number of islands. An island is surrounded by water and is formed by connecting adjacent lands horizontally or vertically. You may assume all four edges of the grid are all surrounded by water.\n",
    "\n",
    " \n"
   ]
  },
  {
   "cell_type": "code",
   "execution_count": 25,
   "metadata": {
    "ExecuteTime": {
     "end_time": "2020-08-10T23:37:30.618908Z",
     "start_time": "2020-08-10T23:37:30.595199Z"
    }
   },
   "outputs": [
    {
     "name": "stdout",
     "output_type": "stream",
     "text": [
      "0\n",
      "2\n"
     ]
    }
   ],
   "source": [
    "\n",
    "class Solution:\n",
    "    def numIslands(self, grid) -> int:\n",
    "        total = 0\n",
    "        rows = len(grid)\n",
    "        cols = len(grid[0])\n",
    "        for i in range(rows):\n",
    "            for j in range(cols):\n",
    "                \n",
    "                # only include elements not on the edge.\n",
    "                if (i > 0 and i < rows - 1\n",
    "                    and j > 0 and j < cols - 1 ):\n",
    "                    if (grid[i-1][j] == \"0\" and # west\n",
    "                        grid[i][j+1] == \"0\" and # north\n",
    "                        grid[i+1][j] == \"0\" and # east\n",
    "                        grid[i][j-1] == \"0\"     # south\n",
    "                       ):\n",
    "                        total += 1\n",
    "        return total\n",
    "                \n",
    "def try_solution():\n",
    "    islands_inout = [\n",
    "        {'Input': [\n",
    "          [\"1\",\"1\",\"1\",\"1\",\"0\"],\n",
    "          [\"1\",\"1\",\"0\",\"1\",\"0\"],\n",
    "          [\"1\",\"1\",\"0\",\"0\",\"0\"],\n",
    "          [\"0\",\"0\",\"0\",\"0\",\"0\"]\n",
    "        ],\n",
    "        'Output': 1},\n",
    "        {\n",
    "        'Input': [\n",
    "          [\"1\",\"1\",\"0\",\"0\",\"0\"],\n",
    "          [\"1\",\"1\",\"0\",\"0\",\"0\"],\n",
    "          [\"0\",\"0\",\"1\",\"0\",\"0\"],\n",
    "          [\"0\",\"0\",\"0\",\"1\",\"1\"]\n",
    "        ],\n",
    "        'Output': 3}\n",
    "    ]\n",
    "\n",
    "    \n",
    "    sol = Solution()\n",
    "    for example in islands_inout:\n",
    "        print(sol.numIslands(grid=example['Input']))\n",
    "        \n",
    "try_solution()"
   ]
  }
 ],
 "metadata": {
  "kernelspec": {
   "display_name": "Python 3",
   "language": "python",
   "name": "python3"
  },
  "language_info": {
   "codemirror_mode": {
    "name": "ipython",
    "version": 3
   },
   "file_extension": ".py",
   "mimetype": "text/x-python",
   "name": "python",
   "nbconvert_exporter": "python",
   "pygments_lexer": "ipython3",
   "version": "3.7.0"
  },
  "toc": {
   "base_numbering": 1,
   "nav_menu": {},
   "number_sections": true,
   "sideBar": true,
   "skip_h1_title": false,
   "title_cell": "Table of Contents",
   "title_sidebar": "Contents",
   "toc_cell": false,
   "toc_position": {},
   "toc_section_display": true,
   "toc_window_display": true
  }
 },
 "nbformat": 4,
 "nbformat_minor": 4
}
