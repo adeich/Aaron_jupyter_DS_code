{
 "cells": [
  {
   "cell_type": "markdown",
   "metadata": {},
   "source": [
    "# Import"
   ]
  },
  {
   "cell_type": "code",
   "execution_count": 1,
   "metadata": {
    "ExecuteTime": {
     "end_time": "2020-08-10T20:58:04.586335Z",
     "start_time": "2020-08-10T20:57:59.546421Z"
    }
   },
   "outputs": [
    {
     "name": "stderr",
     "output_type": "stream",
     "text": [
      "\n",
      "Bad key \"text.kerning_factor\" on line 4 in\n",
      "/Users/aaron/anaconda3/envs/anaconda3_base/lib/python3.7/site-packages/matplotlib/mpl-data/stylelib/_classic_test_patch.mplstyle.\n",
      "You probably need to get an updated matplotlibrc file from\n",
      "https://github.com/matplotlib/matplotlib/blob/v3.1.3/matplotlibrc.template\n",
      "or from the matplotlib source distribution\n"
     ]
    }
   ],
   "source": [
    "import pandas as pd\n",
    "import numpy as np\n",
    "import pandas_profiling as pp\n",
    "import seaborn as sns\n",
    "import matplotlib.pyplot as plt\n"
   ]
  },
  {
   "cell_type": "code",
   "execution_count": 56,
   "metadata": {
    "ExecuteTime": {
     "end_time": "2020-08-10T21:55:33.005416Z",
     "start_time": "2020-08-10T21:55:32.988563Z"
    }
   },
   "outputs": [
    {
     "data": {
      "application/javascript": [
       "IPython.notebook.set_autosave_interval(60000)"
      ]
     },
     "metadata": {},
     "output_type": "display_data"
    },
    {
     "name": "stdout",
     "output_type": "stream",
     "text": [
      "Autosaving every 60 seconds\n"
     ]
    }
   ],
   "source": [
    "%autosave 60\n",
    "%matplotlib inline\n"
   ]
  },
  {
   "cell_type": "markdown",
   "metadata": {},
   "source": [
    "# Make example data csv for this notebook"
   ]
  },
  {
   "cell_type": "code",
   "execution_count": 52,
   "metadata": {
    "ExecuteTime": {
     "end_time": "2020-08-10T21:51:37.966022Z",
     "start_time": "2020-08-10T21:51:37.898140Z"
    }
   },
   "outputs": [
    {
     "name": "stdout",
     "output_type": "stream",
     "text": [
      "Just created 'test_data_from_notebook.csv' of length 50\n"
     ]
    },
    {
     "data": {
      "text/html": [
       "<div>\n",
       "<style scoped>\n",
       "    .dataframe tbody tr th:only-of-type {\n",
       "        vertical-align: middle;\n",
       "    }\n",
       "\n",
       "    .dataframe tbody tr th {\n",
       "        vertical-align: top;\n",
       "    }\n",
       "\n",
       "    .dataframe thead th {\n",
       "        text-align: right;\n",
       "    }\n",
       "</style>\n",
       "<table border=\"1\" class=\"dataframe\">\n",
       "  <thead>\n",
       "    <tr style=\"text-align: right;\">\n",
       "      <th></th>\n",
       "      <th>ID</th>\n",
       "      <th>top speed</th>\n",
       "      <th>destination</th>\n",
       "      <th>Max Q</th>\n",
       "    </tr>\n",
       "  </thead>\n",
       "  <tbody>\n",
       "    <tr>\n",
       "      <th>0</th>\n",
       "      <td>0</td>\n",
       "      <td>73.845304</td>\n",
       "      <td>Mars</td>\n",
       "      <td>8.593329</td>\n",
       "    </tr>\n",
       "    <tr>\n",
       "      <th>1</th>\n",
       "      <td>NaN</td>\n",
       "      <td>65.887660</td>\n",
       "      <td>Mars</td>\n",
       "      <td>8.117121</td>\n",
       "    </tr>\n",
       "    <tr>\n",
       "      <th>2</th>\n",
       "      <td>2</td>\n",
       "      <td>256.321479</td>\n",
       "      <td>NaN</td>\n",
       "      <td>16.010043</td>\n",
       "    </tr>\n",
       "    <tr>\n",
       "      <th>3</th>\n",
       "      <td>3</td>\n",
       "      <td>110.864038</td>\n",
       "      <td>Moon</td>\n",
       "      <td>10.529199</td>\n",
       "    </tr>\n",
       "    <tr>\n",
       "      <th>4</th>\n",
       "      <td>4</td>\n",
       "      <td>151.866393</td>\n",
       "      <td>Jupiter</td>\n",
       "      <td>12.323408</td>\n",
       "    </tr>\n",
       "  </tbody>\n",
       "</table>\n",
       "</div>"
      ],
      "text/plain": [
       "    ID   top speed destination      Max Q\n",
       "0    0   73.845304        Mars   8.593329\n",
       "1  NaN   65.887660        Mars   8.117121\n",
       "2    2  256.321479         NaN  16.010043\n",
       "3    3  110.864038        Moon  10.529199\n",
       "4    4  151.866393     Jupiter  12.323408"
      ]
     },
     "metadata": {},
     "output_type": "display_data"
    }
   ],
   "source": [
    "import random\n",
    "\n",
    "def make_example_data(n, filename='test_data_from_notebook.csv'):\n",
    "    IDs = np.arange(n)\n",
    "    top_speed = np.abs(np.random.randn(n)) * 200\n",
    "    \n",
    "    \n",
    "    df = pd.DataFrame({\n",
    "        'ID' : IDs.astype(int), \n",
    "        'top speed': top_speed,\n",
    "        'destination': np.random.choice(['Mars', 'Moon', 'Jupiter', ''], size=n),\n",
    "        'Max Q': np.sqrt(top_speed)\n",
    "        })\n",
    "    \n",
    "    df.ID = df.astype({'ID': 'int32'})\n",
    "    \n",
    "    # randomly set 10% of cells to null.\n",
    "    df = df.mask(np.random.random(df.shape) < .05)\n",
    "    \n",
    "    # save to file.\n",
    "    df.to_csv(filename, index=False)\n",
    "    \n",
    "    print(\"Just created '{}' of length {}\".format(\n",
    "        filename, n))\n",
    "    \n",
    "    display(df.head())\n",
    "    \n",
    "    \n",
    "make_example_data(n=50)\n",
    "\n"
   ]
  },
  {
   "cell_type": "markdown",
   "metadata": {},
   "source": [
    "# Import CSV"
   ]
  },
  {
   "cell_type": "code",
   "execution_count": 53,
   "metadata": {
    "ExecuteTime": {
     "end_time": "2020-08-10T21:51:40.304773Z",
     "start_time": "2020-08-10T21:51:40.270152Z"
    }
   },
   "outputs": [
    {
     "data": {
      "text/html": [
       "<div>\n",
       "<style scoped>\n",
       "    .dataframe tbody tr th:only-of-type {\n",
       "        vertical-align: middle;\n",
       "    }\n",
       "\n",
       "    .dataframe tbody tr th {\n",
       "        vertical-align: top;\n",
       "    }\n",
       "\n",
       "    .dataframe thead th {\n",
       "        text-align: right;\n",
       "    }\n",
       "</style>\n",
       "<table border=\"1\" class=\"dataframe\">\n",
       "  <thead>\n",
       "    <tr style=\"text-align: right;\">\n",
       "      <th></th>\n",
       "      <th>ID</th>\n",
       "      <th>top speed</th>\n",
       "      <th>destination</th>\n",
       "      <th>Max Q</th>\n",
       "    </tr>\n",
       "  </thead>\n",
       "  <tbody>\n",
       "    <tr>\n",
       "      <th>0</th>\n",
       "      <td>0.0</td>\n",
       "      <td>73.845304</td>\n",
       "      <td>Mars</td>\n",
       "      <td>8.593329</td>\n",
       "    </tr>\n",
       "    <tr>\n",
       "      <th>1</th>\n",
       "      <td>NaN</td>\n",
       "      <td>65.887660</td>\n",
       "      <td>Mars</td>\n",
       "      <td>8.117121</td>\n",
       "    </tr>\n",
       "    <tr>\n",
       "      <th>2</th>\n",
       "      <td>2.0</td>\n",
       "      <td>256.321479</td>\n",
       "      <td>NaN</td>\n",
       "      <td>16.010043</td>\n",
       "    </tr>\n",
       "    <tr>\n",
       "      <th>3</th>\n",
       "      <td>3.0</td>\n",
       "      <td>110.864038</td>\n",
       "      <td>Moon</td>\n",
       "      <td>10.529199</td>\n",
       "    </tr>\n",
       "    <tr>\n",
       "      <th>4</th>\n",
       "      <td>4.0</td>\n",
       "      <td>151.866393</td>\n",
       "      <td>Jupiter</td>\n",
       "      <td>12.323408</td>\n",
       "    </tr>\n",
       "  </tbody>\n",
       "</table>\n",
       "</div>"
      ],
      "text/plain": [
       "    ID   top speed destination      Max Q\n",
       "0  0.0   73.845304        Mars   8.593329\n",
       "1  NaN   65.887660        Mars   8.117121\n",
       "2  2.0  256.321479         NaN  16.010043\n",
       "3  3.0  110.864038        Moon  10.529199\n",
       "4  4.0  151.866393     Jupiter  12.323408"
      ]
     },
     "execution_count": 53,
     "metadata": {},
     "output_type": "execute_result"
    }
   ],
   "source": [
    "my_df = pd.read_csv('test_data_from_notebook.csv')\n",
    "\n",
    "# Useful:\n",
    "#    parse_dates=['fbdate_oconf', 'farrive', 'fstart', 'ffinish'],\n",
    "#    infer_datetime_format=True)\n",
    "#    missing_values = []\n",
    "\n",
    "my_df.head()"
   ]
  },
  {
   "cell_type": "markdown",
   "metadata": {},
   "source": [
    "# EDA: nulls, boxplots ... "
   ]
  },
  {
   "cell_type": "code",
   "execution_count": 54,
   "metadata": {
    "ExecuteTime": {
     "end_time": "2020-08-10T21:51:41.697119Z",
     "start_time": "2020-08-10T21:51:41.653473Z"
    }
   },
   "outputs": [
    {
     "name": "stdout",
     "output_type": "stream",
     "text": [
      "Total rows: \n",
      "\t50\n",
      "Rows; percent of rows that have *at least 1* missing value: \n",
      "\t23; 46.0%\n"
     ]
    },
    {
     "data": {
      "text/html": [
       "<div>\n",
       "<style scoped>\n",
       "    .dataframe tbody tr th:only-of-type {\n",
       "        vertical-align: middle;\n",
       "    }\n",
       "\n",
       "    .dataframe tbody tr th {\n",
       "        vertical-align: top;\n",
       "    }\n",
       "\n",
       "    .dataframe thead th {\n",
       "        text-align: right;\n",
       "    }\n",
       "</style>\n",
       "<table border=\"1\" class=\"dataframe\">\n",
       "  <thead>\n",
       "    <tr style=\"text-align: right;\">\n",
       "      <th></th>\n",
       "      <th>dtype</th>\n",
       "      <th>Number of nulls</th>\n",
       "      <th>% null</th>\n",
       "      <th>Distinct Values</th>\n",
       "      <th>% Distinct Values</th>\n",
       "    </tr>\n",
       "  </thead>\n",
       "  <tbody>\n",
       "    <tr>\n",
       "      <th>ID</th>\n",
       "      <td>float64</td>\n",
       "      <td>3</td>\n",
       "      <td>6.0</td>\n",
       "      <td>47</td>\n",
       "      <td>94.0</td>\n",
       "    </tr>\n",
       "    <tr>\n",
       "      <th>top speed</th>\n",
       "      <td>float64</td>\n",
       "      <td>2</td>\n",
       "      <td>4.0</td>\n",
       "      <td>48</td>\n",
       "      <td>96.0</td>\n",
       "    </tr>\n",
       "    <tr>\n",
       "      <th>destination</th>\n",
       "      <td>object</td>\n",
       "      <td>16</td>\n",
       "      <td>32.0</td>\n",
       "      <td>3</td>\n",
       "      <td>6.0</td>\n",
       "    </tr>\n",
       "    <tr>\n",
       "      <th>Max Q</th>\n",
       "      <td>float64</td>\n",
       "      <td>4</td>\n",
       "      <td>8.0</td>\n",
       "      <td>46</td>\n",
       "      <td>92.0</td>\n",
       "    </tr>\n",
       "  </tbody>\n",
       "</table>\n",
       "</div>"
      ],
      "text/plain": [
       "               dtype  Number of nulls  % null  Distinct Values  \\\n",
       "ID           float64                3     6.0               47   \n",
       "top speed    float64                2     4.0               48   \n",
       "destination   object               16    32.0                3   \n",
       "Max Q        float64                4     8.0               46   \n",
       "\n",
       "             % Distinct Values  \n",
       "ID                        94.0  \n",
       "top speed                 96.0  \n",
       "destination                6.0  \n",
       "Max Q                     92.0  "
      ]
     },
     "metadata": {},
     "output_type": "display_data"
    }
   ],
   "source": [
    "def describe_nulls(df, show_nulls_table=False):    \n",
    "    print(\"Total rows: \\n\\t{:,}\".format(len(df)))\n",
    "    \n",
    "    rows_with_any_NA = len(df[df.isnull().any(axis=1)])\n",
    "    print(\"Rows; percent of rows that have *at least 1* missing value: \\n\\t{:,}; {}%\".format(\n",
    "        rows_with_any_NA, 100 * round(rows_with_any_NA / len(df), 2)))\n",
    "    \n",
    "    \n",
    "    if show_nulls_table:\n",
    "        nunique = df.nunique() # just compute this once.\n",
    "    \n",
    "        display(pd.DataFrame({\n",
    "            'dtype': df.dtypes,\n",
    "            'Number of nulls': df.isnull().sum(),\n",
    "            '% null': 100 * round(df.isnull().sum() / len(df), 4),\n",
    "            'Distinct Values': nunique,\n",
    "            '% Distinct Values': 100 * round(nunique / len(df), 4),\n",
    "        }))\n",
    "\n",
    "    return\n",
    "\n",
    "describe_nulls(my_df, show_nulls_table=True)"
   ]
  },
  {
   "cell_type": "markdown",
   "metadata": {},
   "source": [
    "## Pandas: SQL-like and other common functions\n",
    "\n",
    "* groupby()\n",
    "* nunique()\n",
    "* df.cat.sum()"
   ]
  },
  {
   "cell_type": "markdown",
   "metadata": {},
   "source": [
    "# Misc: Mapping, ... "
   ]
  },
  {
   "cell_type": "code",
   "execution_count": null,
   "metadata": {},
   "outputs": [],
   "source": [
    "import geopandas as gpd\n",
    "import geoplot as gplt\n",
    "import geoplot.crs as gcrs\n",
    "\n",
    "def pt_plot_USA(df, latname, lonname, hue):\n",
    "    contiguous_usa = gpd.read_file(gplt.datasets.get_path('contiguous_usa'))\n",
    "\n",
    "    ax = gplt.polyplot(\n",
    "        contiguous_usa,\n",
    "        zorder=-1,\n",
    "        linewidth=1,\n",
    "        projection=gcrs.AlbersEqualArea(),\n",
    "        edgecolor='white',\n",
    "        facecolor='lightgray',\n",
    "        figsize=(17, 8))\n",
    "\n",
    "    gdf = gpd.GeoDataFrame(\n",
    "        df, geometry=gpd.points_from_xy(\n",
    "            df[lonname], df[latname]))\n",
    "\n",
    "    gplt.pointplot(\n",
    "        gdf,\n",
    "        hue=hue,\n",
    "        legend=True,\n",
    "        cmap='viridis',\n",
    "        alpha=0.8,\n",
    "        ax = ax)\n",
    "    \n",
    "    plt.title('Truckloads, colored by total weight', fontsize=25)\n",
    "\n",
    "\n",
    "#pt_plot_USA(df=lower_48, latname='lat', lonname='lon', hue='total truck weight')"
   ]
  }
 ],
 "metadata": {
  "kernelspec": {
   "display_name": "Python 3",
   "language": "python",
   "name": "python3"
  },
  "language_info": {
   "codemirror_mode": {
    "name": "ipython",
    "version": 3
   },
   "file_extension": ".py",
   "mimetype": "text/x-python",
   "name": "python",
   "nbconvert_exporter": "python",
   "pygments_lexer": "ipython3",
   "version": "3.7.0"
  },
  "toc": {
   "base_numbering": 1,
   "nav_menu": {},
   "number_sections": true,
   "sideBar": true,
   "skip_h1_title": false,
   "title_cell": "Table of Contents",
   "title_sidebar": "Contents",
   "toc_cell": false,
   "toc_position": {},
   "toc_section_display": true,
   "toc_window_display": true
  }
 },
 "nbformat": 4,
 "nbformat_minor": 4
}
